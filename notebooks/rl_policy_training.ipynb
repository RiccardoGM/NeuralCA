{
 "cells": [
  {
   "cell_type": "code",
   "execution_count": 1,
   "metadata": {},
   "outputs": [],
   "source": [
    "## Import libraries\n",
    "import numpy as np\n",
    "from stable_baselines3.common.env_checker import check_env\n",
    "\n",
    "## Import custom modules\n",
    "import sys\n",
    "import os\n",
    "# Append the parent directory to the sys.path\n",
    "this_path = os.path.abspath('') \n",
    "parent_dir = os.path.dirname(this_path)  \n",
    "sys.path.append(parent_dir)\n",
    "from modules import bot_utils as drl, utils"
   ]
  },
  {
   "cell_type": "markdown",
   "metadata": {},
   "source": [
    "### Parameters"
   ]
  },
  {
   "cell_type": "code",
   "execution_count": 2,
   "metadata": {},
   "outputs": [],
   "source": [
    "var1 = 0.3\n",
    "var2 = 0.3\n",
    "n_object = 1000\n",
    "n_objects_transformed = np.tanh(n_object/1000.)\n",
    "desiderata = np.array([var1, var2, n_objects_transformed])\n",
    "kernel_size = 3\n",
    "h_symm = True\n",
    "v_symm = True\n",
    "fixed_center = False\n",
    "activation = 'inv_gaussian'\n",
    "kernel_prec = 2\n",
    "scale_kernel = False\n",
    "t_max = 1000\n",
    "edge_len = 400\n",
    "periodic = False"
   ]
  },
  {
   "cell_type": "markdown",
   "metadata": {},
   "source": [
    "### Env"
   ]
  },
  {
   "cell_type": "code",
   "execution_count": 3,
   "metadata": {},
   "outputs": [],
   "source": [
    "bot = drl.Bot(kernel_size=kernel_size,\n",
    "              #kernel=kernel_worms,\n",
    "              h_symm=h_symm, \n",
    "              v_symm=v_symm, \n",
    "              fixed_center=fixed_center,\n",
    "              activation=activation, \n",
    "              kernel_prec=kernel_prec,\n",
    "              scale_kernel=scale_kernel)\n",
    "rewarder = drl.Rewarder(desiderata=desiderata, \n",
    "                        scales=(5, 30))\n",
    "image = utils.random_image(size=(edge_len,edge_len), \n",
    "                           periodic=periodic)\n",
    "env = drl.Environment(image=image, \n",
    "                      bot=bot, \n",
    "                      desiderata=desiderata,\n",
    "                      max_timesteps=t_max,\n",
    "                      rewarder=rewarder)"
   ]
  },
  {
   "cell_type": "code",
   "execution_count": 4,
   "metadata": {},
   "outputs": [],
   "source": [
    "check_env(env)"
   ]
  }
 ],
 "metadata": {
  "kernelspec": {
   "display_name": "OptimalControlAttacks",
   "language": "python",
   "name": "python3"
  },
  "language_info": {
   "codemirror_mode": {
    "name": "ipython",
    "version": 3
   },
   "file_extension": ".py",
   "mimetype": "text/x-python",
   "name": "python",
   "nbconvert_exporter": "python",
   "pygments_lexer": "ipython3",
   "version": "3.8.18"
  }
 },
 "nbformat": 4,
 "nbformat_minor": 2
}
